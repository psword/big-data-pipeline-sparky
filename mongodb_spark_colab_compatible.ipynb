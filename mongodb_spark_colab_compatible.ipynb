{
  "cells": [
    {
      "cell_type": "markdown",
      "metadata": {
        "id": "view-in-github",
        "colab_type": "text"
      },
      "source": [
        "<a href=\"https://colab.research.google.com/github/psword/big-data-pipeline-sparky/blob/Data-view/mongodb_spark_colab_compatible.ipynb\" target=\"_parent\"><img src=\"https://colab.research.google.com/assets/colab-badge.svg\" alt=\"Open In Colab\"/></a>"
      ]
    },
    {
      "cell_type": "markdown",
      "metadata": {
        "id": "KRiStbgiK6fc"
      },
      "source": [
        "# ✅ PySpark + MongoDB Atlas (Compatible Setup for Google Colab)\n",
        "This notebook uses Apache Spark **3.3.2** and MongoDB Spark Connector **10.1.1**, which are compatible."
      ],
      "id": "KRiStbgiK6fc"
    },
    {
      "cell_type": "code",
      "execution_count": 2,
      "metadata": {
        "colab": {
          "base_uri": "https://localhost:8080/"
        },
        "id": "wbB10-nBK6fh",
        "outputId": "4cd5aec4-f1c1-446c-c4d1-0ffa0131e585"
      },
      "outputs": [
        {
          "output_type": "stream",
          "name": "stdout",
          "text": [
            "\u001b[2K     \u001b[90m━━━━━━━━━━━━━━━━━━━━━━━━━━━━━━━━━━━━━━━━\u001b[0m \u001b[32m317.2/317.2 MB\u001b[0m \u001b[31m4.4 MB/s\u001b[0m eta \u001b[36m0:00:00\u001b[0m\n",
            "\u001b[?25h  Preparing metadata (setup.py) ... \u001b[?25l\u001b[?25hdone\n",
            "\u001b[2K   \u001b[90m━━━━━━━━━━━━━━━━━━━━━━━━━━━━━━━━━━━━━━━━\u001b[0m \u001b[32m200.5/200.5 kB\u001b[0m \u001b[31m14.5 MB/s\u001b[0m eta \u001b[36m0:00:00\u001b[0m\n",
            "\u001b[?25h  Building wheel for pyspark (setup.py) ... \u001b[?25l\u001b[?25hdone\n"
          ]
        }
      ],
      "source": [
        "# 📦 Step 1: Install Python dependencies\n",
        "!pip install -q pyspark findspark pymongo"
      ],
      "id": "wbB10-nBK6fh"
    },
    {
      "cell_type": "code",
      "execution_count": 3,
      "metadata": {
        "id": "nCq3pf8yK6fk"
      },
      "outputs": [],
      "source": [
        "# ⚙️ Step 2: Install Java and Spark 3.3.2\n",
        "!apt-get install openjdk-8-jdk-headless -qq > /dev/null\n",
        "!wget -q https://archive.apache.org/dist/spark/spark-3.3.2/spark-3.3.2-bin-hadoop3.tgz\n",
        "!tar xf spark-3.3.2-bin-hadoop3.tgz"
      ],
      "id": "nCq3pf8yK6fk"
    },
    {
      "cell_type": "code",
      "execution_count": 1,
      "metadata": {
        "id": "iGpHKEKTK6fl"
      },
      "outputs": [],
      "source": [
        "# 🌱 Step 3: Set environment variables\n",
        "import os\n",
        "os.environ[\"JAVA_HOME\"] = \"/usr/lib/jvm/java-8-openjdk-amd64\"\n",
        "os.environ[\"SPARK_HOME\"] = \"/content/spark-3.3.2-bin-hadoop3\"\n",
        "os.environ[\"MONGO_URI\"] = \"mongodb+srv://<username>:<password>@bigdata.kvauode.mongodb.net/tmdb?retryWrites=true&w=majority\""
      ],
      "id": "iGpHKEKTK6fl"
    },
    {
      "cell_type": "code",
      "execution_count": 2,
      "metadata": {
        "id": "lbarXYjGK6fm"
      },
      "outputs": [],
      "source": [
        "# 🚀 Step 4: Start Spark session\n",
        "import findspark\n",
        "findspark.init()\n",
        "\n",
        "from pyspark.sql import SparkSession\n",
        "\n",
        "spark = SparkSession.builder \\\n",
        "    .appName(\"MongoDBIntegration\") \\\n",
        "    .config(\"spark.jars.packages\", \"org.mongodb.spark:mongo-spark-connector_2.12:10.1.1\") \\\n",
        "    .config(\"spark.mongodb.read.connection.uri\", os.environ[\"MONGO_URI\"]) \\\n",
        "    .config(\"spark.mongodb.write.connection.uri\", os.environ[\"MONGO_URI\"]) \\\n",
        "    .getOrCreate()"
      ],
      "id": "lbarXYjGK6fm"
    },
    {
      "cell_type": "code",
      "execution_count": 3,
      "metadata": {
        "colab": {
          "base_uri": "https://localhost:8080/"
        },
        "id": "Qj53OBmaK6fm",
        "outputId": "7e33a761-e74d-4fe0-9de3-17677dac4412"
      },
      "outputs": [
        {
          "output_type": "stream",
          "name": "stdout",
          "text": [
            "+--------------------+-----+--------------------+---------+--------------------+--------------------+------+---------+--------------------+-----------------+---------------+--------------------+----------+--------------------+--------------------+--------------------+------------+-----------+-------+--------------------+--------+--------------------+---------------+------------+----------+\n",
            "|                 _id|adult|       backdrop_path|   budget|              genres|            homepage|    id|  imdb_id|            keywords|original_language| original_title|            overview|popularity|         poster_path|production_companies|production_countries|release_date|    revenue|runtime|    spoken_languages|  status|             tagline|          title|vote_average|vote_count|\n",
            "+--------------------+-----+--------------------+---------+--------------------+--------------------+------+---------+--------------------+-----------------+---------------+--------------------+----------+--------------------+--------------------+--------------------+------------+-----------+-------+--------------------+--------+--------------------+---------------+------------+----------+\n",
            "|67efc28f2da50f02e...|False|/8ZTVqvKDQ8emSGUE...|160000000|Action, Science F...|https://www.warne...| 27205|tt1375666|rescue, mission, ...|               en|      Inception|Cobb, a skilled t...|    83.952|/oYuLEt3zVCKq57qu...|Legendary Picture...|United Kingdom, U...|  2010-07-15|  825532764|    148|English, French, ...|Released|Your mind is the ...|      Inception|       8.364|     34495|\n",
            "|67efc28f2da50f02e...|False|/nMKdUUepR0i5zn0y...|185000000|Drama, Action, Cr...|https://www.warne...|   155|tt0468569|joker, sadism, ch...|               en|The Dark Knight|Batman raises the...|   130.643|/qJ2tW6WMUDux911r...|DC Comics, Legend...|United Kingdom, U...|  2008-07-16| 1004558444|    152|   English, Mandarin|Released|Welcome to a worl...|The Dark Knight|       8.512|     30619|\n",
            "|67efc28f2da50f02e...|False|/pbrkL804c8yAv3zB...|165000000|Adventure, Drama,...|http://www.inters...|157336|tt0816692|rescue, future, s...|               en|   Interstellar|The adventures of...|   140.241|/gEU2QniE6E77NI6l...|Legendary Picture...|United Kingdom, U...|  2014-11-05|  701729206|    169|             English|Released|Mankind was born ...|   Interstellar|       8.417|     32571|\n",
            "|67efc28f2da50f02e...|False|/vL5LR6WdxWPjLPFR...|237000000|Action, Adventure...|https://www.avata...| 19995|tt0499549|future, society, ...|               en|         Avatar|In the 22nd centu...|    79.932|/kyeqWdyUXW608qlY...|Dune Entertainmen...|United States of ...|  2009-12-15|-1371261270|    162|    English, Spanish|Released|Enter the world o...|         Avatar|       7.573|     29815|\n",
            "|67efc28f2da50f02e...|False|/en971MEXui9diirX...| 58000000|Action, Adventure...|https://www.20thc...|293660|tt1431045|superhero, anti h...|               en|       Deadpool|The origin story ...|    72.735|/zq8Cl3PNIDGU3iWN...|20th Century Fox,...|United States of ...|  2016-02-09|  783100000|    108|             English|Released|Witness the begin...|       Deadpool|       7.606|     28894|\n",
            "+--------------------+-----+--------------------+---------+--------------------+--------------------+------+---------+--------------------+-----------------+---------------+--------------------+----------+--------------------+--------------------+--------------------+------------+-----------+-------+--------------------+--------+--------------------+---------------+------------+----------+\n",
            "only showing top 5 rows\n",
            "\n"
          ]
        }
      ],
      "source": [
        "# 📄 Step 5: Read from MongoDB\n",
        "df = spark.read.format(\"mongodb\") \\\n",
        "    .option(\"database\", \"tmdb\") \\\n",
        "    .option(\"collection\", \"movies\") \\\n",
        "    .load()\n",
        "\n",
        "df.show(5)"
      ],
      "id": "Qj53OBmaK6fm"
    },
    {
      "cell_type": "code",
      "source": [
        "# ⚙️ Step 6: Import Additional\n",
        "from pyspark.sql.functions import col, desc\n"
      ],
      "metadata": {
        "id": "NOsWupZgLBtA"
      },
      "id": "NOsWupZgLBtA",
      "execution_count": null,
      "outputs": []
    },
    {
      "cell_type": "code",
      "source": [
        "# 🔥 Step 7: Process Data\n",
        "\n",
        "# \"Adult\" column turned into boolean\n",
        "df = df.withColumn('adult', col('adult').cast('boolean'))\n",
        "\n",
        "# Print first 5 lines\n",
        "print(\"First 5 movies\")\n",
        "df.show(5)\n",
        "\n",
        "# Print 20 first movies with revenue over 1,000,000,000 (filter where adult == False)\n",
        "print(\"First 20 movies with revenue over 1 billion\")\n",
        "over_billion_revenue = df.where(\n",
        "    (col('revenue') > 1000000000) & (col('adult') == False)\n",
        ")\n",
        "over_billion_revenue.show(20)\n",
        "\n",
        "# Print 10 movies with the highest revenue (filter where adult == False and vote_count > 1)\n",
        "print(\"Top 10 movies with highest revenue\")\n",
        "highest_revenue = df.where((col('adult') == False) & (col('vote_count') > 1)).orderBy(desc('revenue'))\n",
        "highest_revenue.show(10)"
      ],
      "metadata": {
        "id": "Cre82EbCLOQr"
      },
      "id": "Cre82EbCLOQr",
      "execution_count": null,
      "outputs": []
    }
  ],
  "metadata": {
    "kernelspec": {
      "display_name": "Python 3",
      "language": "python",
      "name": "python3"
    },
    "language_info": {
      "name": "python",
      "version": "3.11"
    },
    "colab": {
      "provenance": [],
      "include_colab_link": true
    }
  },
  "nbformat": 4,
  "nbformat_minor": 5
}